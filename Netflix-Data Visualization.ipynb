{
 "cells": [
  {
   "cell_type": "code",
   "execution_count": 1,
   "id": "c9129acf",
   "metadata": {},
   "outputs": [],
   "source": [
    "import numpy as np\n",
    "import pandas as pd\n",
    "import matplotlib.pyplot as plt"
   ]
  },
  {
   "cell_type": "code",
   "execution_count": 2,
   "id": "84af3941",
   "metadata": {},
   "outputs": [],
   "source": [
    "data = pd.read_csv(\"netflix.csv\")"
   ]
  },
  {
   "cell_type": "code",
   "execution_count": 3,
   "id": "2cab6c4d",
   "metadata": {},
   "outputs": [
    {
     "data": {
      "text/html": [
       "<div>\n",
       "<style scoped>\n",
       "    .dataframe tbody tr th:only-of-type {\n",
       "        vertical-align: middle;\n",
       "    }\n",
       "\n",
       "    .dataframe tbody tr th {\n",
       "        vertical-align: top;\n",
       "    }\n",
       "\n",
       "    .dataframe thead th {\n",
       "        text-align: right;\n",
       "    }\n",
       "</style>\n",
       "<table border=\"1\" class=\"dataframe\">\n",
       "  <thead>\n",
       "    <tr style=\"text-align: right;\">\n",
       "      <th></th>\n",
       "      <th>title</th>\n",
       "      <th>director</th>\n",
       "      <th>cast</th>\n",
       "      <th>country</th>\n",
       "      <th>duration</th>\n",
       "    </tr>\n",
       "  </thead>\n",
       "  <tbody>\n",
       "    <tr>\n",
       "      <th>0</th>\n",
       "      <td>3%</td>\n",
       "      <td>NaN</td>\n",
       "      <td>João Miguel, Bianca Comparato, Michel Gomes, R...</td>\n",
       "      <td>Brazil</td>\n",
       "      <td>4 Seasons</td>\n",
       "    </tr>\n",
       "    <tr>\n",
       "      <th>1</th>\n",
       "      <td>7:19</td>\n",
       "      <td>Jorge Michel Grau</td>\n",
       "      <td>Demián Bichir, Héctor Bonilla, Oscar Serrano, ...</td>\n",
       "      <td>Mexico</td>\n",
       "      <td>93 min</td>\n",
       "    </tr>\n",
       "    <tr>\n",
       "      <th>2</th>\n",
       "      <td>23:59</td>\n",
       "      <td>Gilbert Chan</td>\n",
       "      <td>Tedd Chan, Stella Chung, Henley Hii, Lawrence ...</td>\n",
       "      <td>Singapore</td>\n",
       "      <td>78 min</td>\n",
       "    </tr>\n",
       "    <tr>\n",
       "      <th>3</th>\n",
       "      <td>9</td>\n",
       "      <td>Shane Acker</td>\n",
       "      <td>Elijah Wood, John C. Reilly, Jennifer Connelly...</td>\n",
       "      <td>United States</td>\n",
       "      <td>80 min</td>\n",
       "    </tr>\n",
       "    <tr>\n",
       "      <th>4</th>\n",
       "      <td>21</td>\n",
       "      <td>Robert Luketic</td>\n",
       "      <td>Jim Sturgess, Kevin Spacey, Kate Bosworth, Aar...</td>\n",
       "      <td>United States</td>\n",
       "      <td>123 min</td>\n",
       "    </tr>\n",
       "    <tr>\n",
       "      <th>...</th>\n",
       "      <td>...</td>\n",
       "      <td>...</td>\n",
       "      <td>...</td>\n",
       "      <td>...</td>\n",
       "      <td>...</td>\n",
       "    </tr>\n",
       "    <tr>\n",
       "      <th>7782</th>\n",
       "      <td>Zozo</td>\n",
       "      <td>Josef Fares</td>\n",
       "      <td>Imad Creidi, Antoinette Turk, Elias Gergi, Car...</td>\n",
       "      <td>Sweden, Czech Republic, United Kingdom, Denmar...</td>\n",
       "      <td>99 min</td>\n",
       "    </tr>\n",
       "    <tr>\n",
       "      <th>7783</th>\n",
       "      <td>Zubaan</td>\n",
       "      <td>Mozez Singh</td>\n",
       "      <td>Vicky Kaushal, Sarah-Jane Dias, Raaghav Chanan...</td>\n",
       "      <td>India</td>\n",
       "      <td>111 min</td>\n",
       "    </tr>\n",
       "    <tr>\n",
       "      <th>7784</th>\n",
       "      <td>Zulu Man in Japan</td>\n",
       "      <td>NaN</td>\n",
       "      <td>Nasty C</td>\n",
       "      <td>NaN</td>\n",
       "      <td>44 min</td>\n",
       "    </tr>\n",
       "    <tr>\n",
       "      <th>7785</th>\n",
       "      <td>Zumbo's Just Desserts</td>\n",
       "      <td>NaN</td>\n",
       "      <td>Adriano Zumbo, Rachel Khoo</td>\n",
       "      <td>Australia</td>\n",
       "      <td>1 Season</td>\n",
       "    </tr>\n",
       "    <tr>\n",
       "      <th>7786</th>\n",
       "      <td>ZZ TOP: THAT LITTLE OL' BAND FROM TEXAS</td>\n",
       "      <td>Sam Dunn</td>\n",
       "      <td>NaN</td>\n",
       "      <td>United Kingdom, Canada, United States</td>\n",
       "      <td>90 min</td>\n",
       "    </tr>\n",
       "  </tbody>\n",
       "</table>\n",
       "<p>7787 rows × 5 columns</p>\n",
       "</div>"
      ],
      "text/plain": [
       "                                        title           director  \\\n",
       "0                                          3%                NaN   \n",
       "1                                        7:19  Jorge Michel Grau   \n",
       "2                                       23:59       Gilbert Chan   \n",
       "3                                           9        Shane Acker   \n",
       "4                                          21     Robert Luketic   \n",
       "...                                       ...                ...   \n",
       "7782                                     Zozo        Josef Fares   \n",
       "7783                                   Zubaan        Mozez Singh   \n",
       "7784                        Zulu Man in Japan                NaN   \n",
       "7785                    Zumbo's Just Desserts                NaN   \n",
       "7786  ZZ TOP: THAT LITTLE OL' BAND FROM TEXAS           Sam Dunn   \n",
       "\n",
       "                                                   cast  \\\n",
       "0     João Miguel, Bianca Comparato, Michel Gomes, R...   \n",
       "1     Demián Bichir, Héctor Bonilla, Oscar Serrano, ...   \n",
       "2     Tedd Chan, Stella Chung, Henley Hii, Lawrence ...   \n",
       "3     Elijah Wood, John C. Reilly, Jennifer Connelly...   \n",
       "4     Jim Sturgess, Kevin Spacey, Kate Bosworth, Aar...   \n",
       "...                                                 ...   \n",
       "7782  Imad Creidi, Antoinette Turk, Elias Gergi, Car...   \n",
       "7783  Vicky Kaushal, Sarah-Jane Dias, Raaghav Chanan...   \n",
       "7784                                            Nasty C   \n",
       "7785                         Adriano Zumbo, Rachel Khoo   \n",
       "7786                                                NaN   \n",
       "\n",
       "                                                country   duration  \n",
       "0                                                Brazil  4 Seasons  \n",
       "1                                                Mexico     93 min  \n",
       "2                                             Singapore     78 min  \n",
       "3                                         United States     80 min  \n",
       "4                                         United States    123 min  \n",
       "...                                                 ...        ...  \n",
       "7782  Sweden, Czech Republic, United Kingdom, Denmar...     99 min  \n",
       "7783                                              India    111 min  \n",
       "7784                                                NaN     44 min  \n",
       "7785                                          Australia   1 Season  \n",
       "7786              United Kingdom, Canada, United States     90 min  \n",
       "\n",
       "[7787 rows x 5 columns]"
      ]
     },
     "execution_count": 3,
     "metadata": {},
     "output_type": "execute_result"
    }
   ],
   "source": [
    "data"
   ]
  },
  {
   "cell_type": "code",
   "execution_count": 4,
   "id": "1ff26661",
   "metadata": {},
   "outputs": [
    {
     "data": {
      "text/plain": [
       "(7787, 5)"
      ]
     },
     "execution_count": 4,
     "metadata": {},
     "output_type": "execute_result"
    }
   ],
   "source": [
    "data.shape"
   ]
  },
  {
   "cell_type": "code",
   "execution_count": 6,
   "id": "c59b7210",
   "metadata": {},
   "outputs": [
    {
     "name": "stdout",
     "output_type": "stream",
     "text": [
      "Bu veri kümesinde 7787 satır ve 5 kolon vardır.\n"
     ]
    }
   ],
   "source": [
    "print(\"Bu veri kümesinde {} satır ve {} kolon vardır.\".format(data.shape[0],data.shape[1]))"
   ]
  },
  {
   "cell_type": "code",
   "execution_count": 7,
   "id": "2c8efdee",
   "metadata": {},
   "outputs": [
    {
     "name": "stdout",
     "output_type": "stream",
     "text": [
      "<class 'pandas.core.frame.DataFrame'>\n",
      "RangeIndex: 7787 entries, 0 to 7786\n",
      "Data columns (total 5 columns):\n",
      " #   Column    Non-Null Count  Dtype \n",
      "---  ------    --------------  ----- \n",
      " 0   title     7787 non-null   object\n",
      " 1   director  5398 non-null   object\n",
      " 2   cast      7069 non-null   object\n",
      " 3   country   7280 non-null   object\n",
      " 4   duration  7787 non-null   object\n",
      "dtypes: object(5)\n",
      "memory usage: 304.3+ KB\n"
     ]
    }
   ],
   "source": [
    "data.info()"
   ]
  },
  {
   "cell_type": "code",
   "execution_count": 10,
   "id": "a909f923",
   "metadata": {},
   "outputs": [
    {
     "data": {
      "text/html": [
       "<div>\n",
       "<style scoped>\n",
       "    .dataframe tbody tr th:only-of-type {\n",
       "        vertical-align: middle;\n",
       "    }\n",
       "\n",
       "    .dataframe tbody tr th {\n",
       "        vertical-align: top;\n",
       "    }\n",
       "\n",
       "    .dataframe thead th {\n",
       "        text-align: right;\n",
       "    }\n",
       "</style>\n",
       "<table border=\"1\" class=\"dataframe\">\n",
       "  <thead>\n",
       "    <tr style=\"text-align: right;\">\n",
       "      <th></th>\n",
       "      <th>title</th>\n",
       "      <th>director</th>\n",
       "      <th>cast</th>\n",
       "      <th>country</th>\n",
       "      <th>duration</th>\n",
       "    </tr>\n",
       "  </thead>\n",
       "  <tbody>\n",
       "    <tr>\n",
       "      <th>0</th>\n",
       "      <td>False</td>\n",
       "      <td>True</td>\n",
       "      <td>False</td>\n",
       "      <td>False</td>\n",
       "      <td>False</td>\n",
       "    </tr>\n",
       "    <tr>\n",
       "      <th>1</th>\n",
       "      <td>False</td>\n",
       "      <td>False</td>\n",
       "      <td>False</td>\n",
       "      <td>False</td>\n",
       "      <td>False</td>\n",
       "    </tr>\n",
       "    <tr>\n",
       "      <th>2</th>\n",
       "      <td>False</td>\n",
       "      <td>False</td>\n",
       "      <td>False</td>\n",
       "      <td>False</td>\n",
       "      <td>False</td>\n",
       "    </tr>\n",
       "    <tr>\n",
       "      <th>3</th>\n",
       "      <td>False</td>\n",
       "      <td>False</td>\n",
       "      <td>False</td>\n",
       "      <td>False</td>\n",
       "      <td>False</td>\n",
       "    </tr>\n",
       "    <tr>\n",
       "      <th>4</th>\n",
       "      <td>False</td>\n",
       "      <td>False</td>\n",
       "      <td>False</td>\n",
       "      <td>False</td>\n",
       "      <td>False</td>\n",
       "    </tr>\n",
       "    <tr>\n",
       "      <th>...</th>\n",
       "      <td>...</td>\n",
       "      <td>...</td>\n",
       "      <td>...</td>\n",
       "      <td>...</td>\n",
       "      <td>...</td>\n",
       "    </tr>\n",
       "    <tr>\n",
       "      <th>7782</th>\n",
       "      <td>False</td>\n",
       "      <td>False</td>\n",
       "      <td>False</td>\n",
       "      <td>False</td>\n",
       "      <td>False</td>\n",
       "    </tr>\n",
       "    <tr>\n",
       "      <th>7783</th>\n",
       "      <td>False</td>\n",
       "      <td>False</td>\n",
       "      <td>False</td>\n",
       "      <td>False</td>\n",
       "      <td>False</td>\n",
       "    </tr>\n",
       "    <tr>\n",
       "      <th>7784</th>\n",
       "      <td>False</td>\n",
       "      <td>True</td>\n",
       "      <td>False</td>\n",
       "      <td>True</td>\n",
       "      <td>False</td>\n",
       "    </tr>\n",
       "    <tr>\n",
       "      <th>7785</th>\n",
       "      <td>False</td>\n",
       "      <td>True</td>\n",
       "      <td>False</td>\n",
       "      <td>False</td>\n",
       "      <td>False</td>\n",
       "    </tr>\n",
       "    <tr>\n",
       "      <th>7786</th>\n",
       "      <td>False</td>\n",
       "      <td>False</td>\n",
       "      <td>True</td>\n",
       "      <td>False</td>\n",
       "      <td>False</td>\n",
       "    </tr>\n",
       "  </tbody>\n",
       "</table>\n",
       "<p>7787 rows × 5 columns</p>\n",
       "</div>"
      ],
      "text/plain": [
       "      title  director   cast  country  duration\n",
       "0     False      True  False    False     False\n",
       "1     False     False  False    False     False\n",
       "2     False     False  False    False     False\n",
       "3     False     False  False    False     False\n",
       "4     False     False  False    False     False\n",
       "...     ...       ...    ...      ...       ...\n",
       "7782  False     False  False    False     False\n",
       "7783  False     False  False    False     False\n",
       "7784  False      True  False     True     False\n",
       "7785  False      True  False    False     False\n",
       "7786  False     False   True    False     False\n",
       "\n",
       "[7787 rows x 5 columns]"
      ]
     },
     "execution_count": 10,
     "metadata": {},
     "output_type": "execute_result"
    }
   ],
   "source": [
    "data.isnull()                      #nan olan durumları kontrol ediyor."
   ]
  },
  {
   "cell_type": "code",
   "execution_count": 22,
   "id": "7c020e82",
   "metadata": {},
   "outputs": [
    {
     "data": {
      "text/plain": [
       "title          0\n",
       "director    2389\n",
       "cast         718\n",
       "country      507\n",
       "duration       0\n",
       "dtype: int64"
      ]
     },
     "execution_count": 22,
     "metadata": {},
     "output_type": "execute_result"
    }
   ],
   "source": [
    "data.isnull().sum()                 #verilerin ozeti, hangi konulardan ne kadar eksik oldugunu belirtiyor."
   ]
  },
  {
   "cell_type": "code",
   "execution_count": 14,
   "id": "b5df4ff4",
   "metadata": {},
   "outputs": [
    {
     "data": {
      "text/plain": [
       "United States                                             2555\n",
       "India                                                      923\n",
       "United Kingdom                                             397\n",
       "Japan                                                      226\n",
       "South Korea                                                183\n",
       "                                                          ... \n",
       "United States, Germany, United Kingdom, Italy                1\n",
       "Denmark, United Kingdom, South Africa, Sweden, Belgium       1\n",
       "Colombia, Peru, United Kingdom                               1\n",
       "Hong Kong, Iceland, United States                            1\n",
       "United Kingdom, Israel, Russia                               1\n",
       "Name: country, Length: 681, dtype: int64"
      ]
     },
     "execution_count": 14,
     "metadata": {},
     "output_type": "execute_result"
    }
   ],
   "source": [
    "ulkeler = data[\"country\"].value_counts()            #ulkelerin sahip oldugu netflix yapımı sayıları\n",
    "ulkeler"
   ]
  },
  {
   "cell_type": "code",
   "execution_count": 17,
   "id": "ed852313",
   "metadata": {},
   "outputs": [
    {
     "data": {
      "text/html": [
       "<div>\n",
       "<style scoped>\n",
       "    .dataframe tbody tr th:only-of-type {\n",
       "        vertical-align: middle;\n",
       "    }\n",
       "\n",
       "    .dataframe tbody tr th {\n",
       "        vertical-align: top;\n",
       "    }\n",
       "\n",
       "    .dataframe thead th {\n",
       "        text-align: right;\n",
       "    }\n",
       "</style>\n",
       "<table border=\"1\" class=\"dataframe\">\n",
       "  <thead>\n",
       "    <tr style=\"text-align: right;\">\n",
       "      <th></th>\n",
       "      <th>Yapım Sayısı</th>\n",
       "    </tr>\n",
       "  </thead>\n",
       "  <tbody>\n",
       "    <tr>\n",
       "      <th>United States</th>\n",
       "      <td>2555</td>\n",
       "    </tr>\n",
       "    <tr>\n",
       "      <th>India</th>\n",
       "      <td>923</td>\n",
       "    </tr>\n",
       "    <tr>\n",
       "      <th>United Kingdom</th>\n",
       "      <td>397</td>\n",
       "    </tr>\n",
       "    <tr>\n",
       "      <th>Japan</th>\n",
       "      <td>226</td>\n",
       "    </tr>\n",
       "    <tr>\n",
       "      <th>South Korea</th>\n",
       "      <td>183</td>\n",
       "    </tr>\n",
       "    <tr>\n",
       "      <th>...</th>\n",
       "      <td>...</td>\n",
       "    </tr>\n",
       "    <tr>\n",
       "      <th>United States, Germany, United Kingdom, Italy</th>\n",
       "      <td>1</td>\n",
       "    </tr>\n",
       "    <tr>\n",
       "      <th>Denmark, United Kingdom, South Africa, Sweden, Belgium</th>\n",
       "      <td>1</td>\n",
       "    </tr>\n",
       "    <tr>\n",
       "      <th>Colombia, Peru, United Kingdom</th>\n",
       "      <td>1</td>\n",
       "    </tr>\n",
       "    <tr>\n",
       "      <th>Hong Kong, Iceland, United States</th>\n",
       "      <td>1</td>\n",
       "    </tr>\n",
       "    <tr>\n",
       "      <th>United Kingdom, Israel, Russia</th>\n",
       "      <td>1</td>\n",
       "    </tr>\n",
       "  </tbody>\n",
       "</table>\n",
       "<p>681 rows × 1 columns</p>\n",
       "</div>"
      ],
      "text/plain": [
       "                                                    Yapım Sayısı\n",
       "United States                                               2555\n",
       "India                                                        923\n",
       "United Kingdom                                               397\n",
       "Japan                                                        226\n",
       "South Korea                                                  183\n",
       "...                                                          ...\n",
       "United States, Germany, United Kingdom, Italy                  1\n",
       "Denmark, United Kingdom, South Africa, Sweden, ...             1\n",
       "Colombia, Peru, United Kingdom                                 1\n",
       "Hong Kong, Iceland, United States                              1\n",
       "United Kingdom, Israel, Russia                                 1\n",
       "\n",
       "[681 rows x 1 columns]"
      ]
     },
     "execution_count": 17,
     "metadata": {},
     "output_type": "execute_result"
    }
   ],
   "source": [
    "ulkeler = pd.DataFrame({\"Yapım Sayısı\": data[\"country\"].value_counts()})\n",
    "ulkeler"
   ]
  },
  {
   "cell_type": "code",
   "execution_count": 18,
   "id": "b5821219",
   "metadata": {},
   "outputs": [
    {
     "data": {
      "text/plain": [
       "Index(['United States', 'India', 'United Kingdom', 'Japan', 'South Korea',\n",
       "       'Canada', 'Spain', 'France', 'Egypt', 'Mexico', 'Turkey', 'Australia'],\n",
       "      dtype='object')"
      ]
     },
     "execution_count": 18,
     "metadata": {},
     "output_type": "execute_result"
    }
   ],
   "source": [
    "x = ulkeler.index\n",
    "x = x[0:12]\n",
    "x"
   ]
  },
  {
   "cell_type": "code",
   "execution_count": 23,
   "id": "4cfdda58",
   "metadata": {},
   "outputs": [
    {
     "data": {
      "text/plain": [
       "United States     2555\n",
       "India              923\n",
       "United Kingdom     397\n",
       "Japan              226\n",
       "South Korea        183\n",
       "Canada             177\n",
       "Spain              134\n",
       "France             115\n",
       "Egypt              101\n",
       "Mexico             100\n",
       "Turkey             100\n",
       "Australia           83\n",
       "Name: Yapım Sayısı, dtype: int64"
      ]
     },
     "execution_count": 23,
     "metadata": {},
     "output_type": "execute_result"
    }
   ],
   "source": [
    "y = ulkeler[\"Yapım Sayısı\"]            #y = ulkeler[\"Yapım Sayısı\"][0:12]\n",
    "y = y[0:12]\n",
    "y"
   ]
  },
  {
   "cell_type": "code",
   "execution_count": 21,
   "id": "190e0e5f",
   "metadata": {},
   "outputs": [
    {
     "data": {
      "image/png": "[encoded data removed]",
      "text/plain": [
       "<Figure size 1080x576 with 1 Axes>"
      ]
     },
     "metadata": {
      "needs_background": "light"
     },
     "output_type": "display_data"
    }
   ],
   "source": [
    "plt.figure(figsize = (15,8))\n",
    "plt.bar(x,y)\n",
    "plt.show()"
   ]
  },
  {
   "cell_type": "code",
   "execution_count": 29,
   "id": "9381a960",
   "metadata": {},
   "outputs": [
    {
     "data": {
      "image/png": "[encoded data removed]",
      "text/plain": [
       "<Figure size 1080x576 with 1 Axes>"
      ]
     },
     "metadata": {
      "needs_background": "light"
     },
     "output_type": "display_data"
    }
   ],
   "source": [
    "plt.figure(figsize = (15,8))\n",
    "\n",
    "color = [\"black\",\"black\",\"black\",\"black\",\"black\",\"black\",\"black\",\"black\",\"black\",\"black\",\"red\",\"black\"]\n",
    "plt.bar(x,y, color= color)\n",
    "plt.title(\"En Cok Netflix Yapımına Sahip Olan 12 Ulke\")\n",
    "plt.xlabel(\"Ulkeler\")\n",
    "plt.ylabel(\"Yapım Sayısı\")\n",
    "plt.show()"
   ]
  },
  {
   "cell_type": "markdown",
   "id": "4e4d4db5",
   "metadata": {},
   "source": [
    "# Yerli Yapımlar"
   ]
  },
  {
   "cell_type": "code",
   "execution_count": 31,
   "id": "aaadf7a1",
   "metadata": {},
   "outputs": [],
   "source": [
    "yerli = data.loc[data[\"country\"] == \"Turkey\"]"
   ]
  },
  {
   "cell_type": "code",
   "execution_count": 32,
   "id": "8ed4dd17",
   "metadata": {},
   "outputs": [
    {
     "data": {
      "text/html": [
       "<div>\n",
       "<style scoped>\n",
       "    .dataframe tbody tr th:only-of-type {\n",
       "        vertical-align: middle;\n",
       "    }\n",
       "\n",
       "    .dataframe tbody tr th {\n",
       "        vertical-align: top;\n",
       "    }\n",
       "\n",
       "    .dataframe thead th {\n",
       "        text-align: right;\n",
       "    }\n",
       "</style>\n",
       "<table border=\"1\" class=\"dataframe\">\n",
       "  <thead>\n",
       "    <tr style=\"text-align: right;\">\n",
       "      <th></th>\n",
       "      <th>title</th>\n",
       "      <th>director</th>\n",
       "      <th>cast</th>\n",
       "      <th>country</th>\n",
       "      <th>duration</th>\n",
       "    </tr>\n",
       "  </thead>\n",
       "  <tbody>\n",
       "    <tr>\n",
       "      <th>5</th>\n",
       "      <td>46</td>\n",
       "      <td>Serdar Akar</td>\n",
       "      <td>Erdal Beşikçioğlu, Yasemin Allen, Melis Birkan...</td>\n",
       "      <td>Turkey</td>\n",
       "      <td>1 Season</td>\n",
       "    </tr>\n",
       "    <tr>\n",
       "      <th>40</th>\n",
       "      <td>Çarsi Pazar</td>\n",
       "      <td>Muharrem Gülmez</td>\n",
       "      <td>Erdem Yener, Ayhan Taş, Emin Olcay, Muharrem G...</td>\n",
       "      <td>Turkey</td>\n",
       "      <td>97 min</td>\n",
       "    </tr>\n",
       "    <tr>\n",
       "      <th>42</th>\n",
       "      <td>Çok Filim Hareketler Bunlar</td>\n",
       "      <td>Ozan Açıktan</td>\n",
       "      <td>Ayça Erturan, Aydan Taş, Ayşegül Akdemir, Burc...</td>\n",
       "      <td>Turkey</td>\n",
       "      <td>99 min</td>\n",
       "    </tr>\n",
       "    <tr>\n",
       "      <th>45</th>\n",
       "      <td>Şubat</td>\n",
       "      <td>NaN</td>\n",
       "      <td>Alican Yücesoy, Melisa Sözen, Musa Uzunlar, Se...</td>\n",
       "      <td>Turkey</td>\n",
       "      <td>1 Season</td>\n",
       "    </tr>\n",
       "    <tr>\n",
       "      <th>80</th>\n",
       "      <td>20 Minutes</td>\n",
       "      <td>NaN</td>\n",
       "      <td>Tuba Büyüküstün, Ilker Aksum, Bülent Emin Yara...</td>\n",
       "      <td>Turkey</td>\n",
       "      <td>1 Season</td>\n",
       "    </tr>\n",
       "    <tr>\n",
       "      <th>...</th>\n",
       "      <td>...</td>\n",
       "      <td>...</td>\n",
       "      <td>...</td>\n",
       "      <td>...</td>\n",
       "      <td>...</td>\n",
       "    </tr>\n",
       "    <tr>\n",
       "      <th>7553</th>\n",
       "      <td>What Happens to My Family</td>\n",
       "      <td>NaN</td>\n",
       "      <td>Settar Tanrıöğen, Uraz Kaygılaroğlu, Berna Kor...</td>\n",
       "      <td>Turkey</td>\n",
       "      <td>1 Season</td>\n",
       "    </tr>\n",
       "    <tr>\n",
       "      <th>7637</th>\n",
       "      <td>Winter Sun</td>\n",
       "      <td>NaN</td>\n",
       "      <td>Şükrü Özyıldız, Aslı Enver, Şenay Gürler, Başa...</td>\n",
       "      <td>Turkey</td>\n",
       "      <td>1 Season</td>\n",
       "    </tr>\n",
       "    <tr>\n",
       "      <th>7651</th>\n",
       "      <td>Wolf</td>\n",
       "      <td>NaN</td>\n",
       "      <td>Ahu Türkpençe, Serkan Çayoğlu, Murat Arkin, Em...</td>\n",
       "      <td>Turkey</td>\n",
       "      <td>1 Season</td>\n",
       "    </tr>\n",
       "    <tr>\n",
       "      <th>7731</th>\n",
       "      <td>You're Everything To Me</td>\n",
       "      <td>Tolga Örnek</td>\n",
       "      <td>Tolga Çevik, Cengiz Bozkurt, Melis Birkan, Tun...</td>\n",
       "      <td>Turkey</td>\n",
       "      <td>107 min</td>\n",
       "    </tr>\n",
       "    <tr>\n",
       "      <th>7753</th>\n",
       "      <td>Yunus Emre</td>\n",
       "      <td>NaN</td>\n",
       "      <td>Gökhan Atalay, Payidar Tüfekçioglu, Baran Akbu...</td>\n",
       "      <td>Turkey</td>\n",
       "      <td>2 Seasons</td>\n",
       "    </tr>\n",
       "  </tbody>\n",
       "</table>\n",
       "<p>100 rows × 5 columns</p>\n",
       "</div>"
      ],
      "text/plain": [
       "                            title         director  \\\n",
       "5                              46      Serdar Akar   \n",
       "40                    Çarsi Pazar  Muharrem Gülmez   \n",
       "42    Çok Filim Hareketler Bunlar     Ozan Açıktan   \n",
       "45                          Şubat              NaN   \n",
       "80                     20 Minutes              NaN   \n",
       "...                           ...              ...   \n",
       "7553    What Happens to My Family              NaN   \n",
       "7637                   Winter Sun              NaN   \n",
       "7651                         Wolf              NaN   \n",
       "7731      You're Everything To Me      Tolga Örnek   \n",
       "7753                   Yunus Emre              NaN   \n",
       "\n",
       "                                                   cast country   duration  \n",
       "5     Erdal Beşikçioğlu, Yasemin Allen, Melis Birkan...  Turkey   1 Season  \n",
       "40    Erdem Yener, Ayhan Taş, Emin Olcay, Muharrem G...  Turkey     97 min  \n",
       "42    Ayça Erturan, Aydan Taş, Ayşegül Akdemir, Burc...  Turkey     99 min  \n",
       "45    Alican Yücesoy, Melisa Sözen, Musa Uzunlar, Se...  Turkey   1 Season  \n",
       "80    Tuba Büyüküstün, Ilker Aksum, Bülent Emin Yara...  Turkey   1 Season  \n",
       "...                                                 ...     ...        ...  \n",
       "7553  Settar Tanrıöğen, Uraz Kaygılaroğlu, Berna Kor...  Turkey   1 Season  \n",
       "7637  Şükrü Özyıldız, Aslı Enver, Şenay Gürler, Başa...  Turkey   1 Season  \n",
       "7651  Ahu Türkpençe, Serkan Çayoğlu, Murat Arkin, Em...  Turkey   1 Season  \n",
       "7731  Tolga Çevik, Cengiz Bozkurt, Melis Birkan, Tun...  Turkey    107 min  \n",
       "7753  Gökhan Atalay, Payidar Tüfekçioglu, Baran Akbu...  Turkey  2 Seasons  \n",
       "\n",
       "[100 rows x 5 columns]"
      ]
     },
     "execution_count": 32,
     "metadata": {},
     "output_type": "execute_result"
    }
   ],
   "source": [
    "yerli"
   ]
  },
  {
   "cell_type": "code",
   "execution_count": 35,
   "id": "e9cc8939",
   "metadata": {},
   "outputs": [
    {
     "data": {
      "text/html": [
       "<div>\n",
       "<style scoped>\n",
       "    .dataframe tbody tr th:only-of-type {\n",
       "        vertical-align: middle;\n",
       "    }\n",
       "\n",
       "    .dataframe tbody tr th {\n",
       "        vertical-align: top;\n",
       "    }\n",
       "\n",
       "    .dataframe thead th {\n",
       "        text-align: right;\n",
       "    }\n",
       "</style>\n",
       "<table border=\"1\" class=\"dataframe\">\n",
       "  <thead>\n",
       "    <tr style=\"text-align: right;\">\n",
       "      <th></th>\n",
       "      <th>Yapım Sayısı</th>\n",
       "    </tr>\n",
       "  </thead>\n",
       "  <tbody>\n",
       "    <tr>\n",
       "      <th>Hakan Algül</th>\n",
       "      <td>8</td>\n",
       "    </tr>\n",
       "    <tr>\n",
       "      <th>Yılmaz Erdoğan</th>\n",
       "      <td>7</td>\n",
       "    </tr>\n",
       "    <tr>\n",
       "      <th>Ozan Açıktan</th>\n",
       "      <td>6</td>\n",
       "    </tr>\n",
       "    <tr>\n",
       "      <th>Kıvanç Baruönü</th>\n",
       "      <td>5</td>\n",
       "    </tr>\n",
       "    <tr>\n",
       "      <th>Burak Aksak</th>\n",
       "      <td>3</td>\n",
       "    </tr>\n",
       "  </tbody>\n",
       "</table>\n",
       "</div>"
      ],
      "text/plain": [
       "                Yapım Sayısı\n",
       "Hakan Algül                8\n",
       "Yılmaz Erdoğan             7\n",
       "Ozan Açıktan               6\n",
       "Kıvanç Baruönü             5\n",
       "Burak Aksak                3"
      ]
     },
     "execution_count": 35,
     "metadata": {},
     "output_type": "execute_result"
    }
   ],
   "source": [
    "yonetmen = pd.DataFrame({\"Yapım Sayısı\": yerli[\"director\"].value_counts()})\n",
    "yonetmen.head(5)"
   ]
  },
  {
   "cell_type": "code",
   "execution_count": 37,
   "id": "42bdd0c8",
   "metadata": {},
   "outputs": [
    {
     "data": {
      "text/html": [
       "<div>\n",
       "<style scoped>\n",
       "    .dataframe tbody tr th:only-of-type {\n",
       "        vertical-align: middle;\n",
       "    }\n",
       "\n",
       "    .dataframe tbody tr th {\n",
       "        vertical-align: top;\n",
       "    }\n",
       "\n",
       "    .dataframe thead th {\n",
       "        text-align: right;\n",
       "    }\n",
       "</style>\n",
       "<table border=\"1\" class=\"dataframe\">\n",
       "  <thead>\n",
       "    <tr style=\"text-align: right;\">\n",
       "      <th></th>\n",
       "      <th>title</th>\n",
       "      <th>director</th>\n",
       "      <th>cast</th>\n",
       "      <th>country</th>\n",
       "      <th>duration</th>\n",
       "    </tr>\n",
       "  </thead>\n",
       "  <tbody>\n",
       "    <tr>\n",
       "      <th>1941</th>\n",
       "      <td>Ekşi Elmalar</td>\n",
       "      <td>Yılmaz Erdoğan</td>\n",
       "      <td>Yılmaz Erdoğan, Farah Zeynep Abdullah, Songül ...</td>\n",
       "      <td>Turkey</td>\n",
       "      <td>109 min</td>\n",
       "    </tr>\n",
       "    <tr>\n",
       "      <th>3787</th>\n",
       "      <td>Love, Surreal and Odd</td>\n",
       "      <td>Yılmaz Erdoğan</td>\n",
       "      <td>Aylin Kontante, Bülent Emrah Parlak, Büşra Pek...</td>\n",
       "      <td>Turkey</td>\n",
       "      <td>95 min</td>\n",
       "    </tr>\n",
       "    <tr>\n",
       "      <th>4178</th>\n",
       "      <td>Money Trap</td>\n",
       "      <td>Yılmaz Erdoğan</td>\n",
       "      <td>Yılmaz Erdoğan, Kıvanç Tatlıtuğ, Ezgi Mola, Be...</td>\n",
       "      <td>Turkey</td>\n",
       "      <td>122 min</td>\n",
       "    </tr>\n",
       "    <tr>\n",
       "      <th>4447</th>\n",
       "      <td>Neseli Hayat</td>\n",
       "      <td>Yılmaz Erdoğan</td>\n",
       "      <td>Yılmaz Erdoğan, Ersin Korkut, Büşra Pekin, Erd...</td>\n",
       "      <td>Turkey</td>\n",
       "      <td>108 min</td>\n",
       "    </tr>\n",
       "    <tr>\n",
       "      <th>4682</th>\n",
       "      <td>Organize Isler</td>\n",
       "      <td>Yılmaz Erdoğan</td>\n",
       "      <td>Yılmaz Erdoğan, Tolga Çevik, Demet Akbağ, Alta...</td>\n",
       "      <td>Turkey</td>\n",
       "      <td>104 min</td>\n",
       "    </tr>\n",
       "    <tr>\n",
       "      <th>6189</th>\n",
       "      <td>The Butterfly's Dream</td>\n",
       "      <td>Yılmaz Erdoğan</td>\n",
       "      <td>Kıvanç Tatlıtuğ, Mert Fırat, Belçim Bilgin, Fa...</td>\n",
       "      <td>Turkey</td>\n",
       "      <td>118 min</td>\n",
       "    </tr>\n",
       "    <tr>\n",
       "      <th>7439</th>\n",
       "      <td>Vizontele Tuuba</td>\n",
       "      <td>Yılmaz Erdoğan</td>\n",
       "      <td>Yılmaz Erdoğan, Tarık Akan, Altan Erkekli, Cez...</td>\n",
       "      <td>Turkey</td>\n",
       "      <td>106 min</td>\n",
       "    </tr>\n",
       "  </tbody>\n",
       "</table>\n",
       "</div>"
      ],
      "text/plain": [
       "                      title        director  \\\n",
       "1941           Ekşi Elmalar  Yılmaz Erdoğan   \n",
       "3787  Love, Surreal and Odd  Yılmaz Erdoğan   \n",
       "4178             Money Trap  Yılmaz Erdoğan   \n",
       "4447           Neseli Hayat  Yılmaz Erdoğan   \n",
       "4682         Organize Isler  Yılmaz Erdoğan   \n",
       "6189  The Butterfly's Dream  Yılmaz Erdoğan   \n",
       "7439        Vizontele Tuuba  Yılmaz Erdoğan   \n",
       "\n",
       "                                                   cast country duration  \n",
       "1941  Yılmaz Erdoğan, Farah Zeynep Abdullah, Songül ...  Turkey  109 min  \n",
       "3787  Aylin Kontante, Bülent Emrah Parlak, Büşra Pek...  Turkey   95 min  \n",
       "4178  Yılmaz Erdoğan, Kıvanç Tatlıtuğ, Ezgi Mola, Be...  Turkey  122 min  \n",
       "4447  Yılmaz Erdoğan, Ersin Korkut, Büşra Pekin, Erd...  Turkey  108 min  \n",
       "4682  Yılmaz Erdoğan, Tolga Çevik, Demet Akbağ, Alta...  Turkey  104 min  \n",
       "6189  Kıvanç Tatlıtuğ, Mert Fırat, Belçim Bilgin, Fa...  Turkey  118 min  \n",
       "7439  Yılmaz Erdoğan, Tarık Akan, Altan Erkekli, Cez...  Turkey  106 min  "
      ]
     },
     "execution_count": 37,
     "metadata": {},
     "output_type": "execute_result"
    }
   ],
   "source": [
    "yerli.loc[yerli[\"director\"] == \"Yılmaz Erdoğan\"]"
   ]
  },
  {
   "cell_type": "code",
   "execution_count": null,
   "id": "6e49129f",
   "metadata": {},
   "outputs": [],
   "source": []
  },
  {
   "cell_type": "code",
   "execution_count": null,
   "id": "689210c2",
   "metadata": {},
   "outputs": [],
   "source": []
  }
 ],
 "metadata": {
  "kernelspec": {
   "display_name": "Python 3",
   "language": "python",
   "name": "python3"
  },
  "language_info": {
   "codemirror_mode": {
    "name": "ipython",
    "version": 3
   },
   "file_extension": ".py",
   "mimetype": "text/x-python",
   "name": "python",
   "nbconvert_exporter": "python",
   "pygments_lexer": "ipython3",
   "version": "3.8.8"
  }
 },
 "nbformat": 4,
 "nbformat_minor": 5
}
